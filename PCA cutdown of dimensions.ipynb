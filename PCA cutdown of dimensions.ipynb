{
 "cells": [
  {
   "cell_type": "code",
   "execution_count": 33,
   "metadata": {
    "collapsed": true
   },
   "outputs": [],
   "source": [
    "import numpy as np\n",
    "import pandas as pd\n",
    "import matplotlib\n",
    "import matplotlib.pyplot as plt\n",
    "import string\n",
    "import re\n",
    "import nltk\n",
    "import sklearn\n",
    "from sklearn.pipeline import Pipeline\n",
    "from sklearn.grid_search import GridSearchCV\n",
    "\n",
    "                                                                                                                                                                                                                                                                                                                        \n",
    "%matplotlib inline"
   ]
  },
  {
   "cell_type": "code",
   "execution_count": 34,
   "metadata": {
    "collapsed": true
   },
   "outputs": [],
   "source": [
    "clean_data = pd.read_excel('clean.xlsx')\n",
    "clean_data = clean_data.iloc[np.random.permutation(len(clean_data))]\n",
    "clean_data = clean_data.reset_index(drop=True)\n"
   ]
  },
  {
   "cell_type": "markdown",
   "metadata": {},
   "source": [
    "# Text preprocessing with Stemmer"
   ]
  },
  {
   "cell_type": "code",
   "execution_count": 52,
   "metadata": {
    "collapsed": true
   },
   "outputs": [],
   "source": [
    "def replacewithstem(text):\n",
    "    tokens = nltk.word_tokenize(text)\n",
    "    stemmer = nltk.stem.porter.PorterStemmer()\n",
    "    \n",
    "    stemmed = []\n",
    "    for token in tokens:\n",
    "        stemmed.append(stemmer.stem(token))\n",
    "        \n",
    "    return ' '.join(stemmed)\n",
    "\n",
    "clean_data['Text_Stemmed']= clean_data['Text'].apply(replacewithstem)"
   ]
  },
  {
   "cell_type": "markdown",
   "metadata": {},
   "source": [
    "# Split"
   ]
  },
  {
   "cell_type": "code",
   "execution_count": 63,
   "metadata": {
    "collapsed": true
   },
   "outputs": [],
   "source": [
    "data_train, data_test, labels_train, labels_test = sklearn.cross_validation.train_test_split(clean_data['Text_Stemmed'], clean_data['Category'], test_size = 0.20)"
   ]
  },
  {
   "cell_type": "code",
   "execution_count": 64,
   "metadata": {
    "collapsed": false,
    "scrolled": true
   },
   "outputs": [
    {
     "data": {
      "text/plain": [
       "(17414, 4354)"
      ]
     },
     "execution_count": 64,
     "metadata": {},
     "output_type": "execute_result"
    }
   ],
   "source": [
    "len(data_train), len(data_test)"
   ]
  },
  {
   "cell_type": "markdown",
   "metadata": {},
   "source": [
    "# Preprocessing"
   ]
  },
  {
   "cell_type": "code",
   "execution_count": 75,
   "metadata": {
    "collapsed": false
   },
   "outputs": [],
   "source": [
    "from sklearn.feature_extraction.text import TfidfVectorizer\n",
    "from sklearn.feature_extraction.text import CountVectorizer\n",
    "from sklearn.linear_model import LogisticRegression\n",
    "\n",
    "pipeline = Pipeline([\n",
    "        ('tfidf', TfidfVectorizer()),\n",
    "        ('clf', LogisticRegression())        \n",
    "    ]\n",
    ")\n",
    "\n",
    "parameters = {\n",
    "    \"clf__C\":np.logspace(-5,5,5),\n",
    "    \"clf__tol\":np.logspace(0,-4,4)\n",
    "}"
   ]
  },
  {
   "cell_type": "code",
   "execution_count": 66,
   "metadata": {
    "collapsed": false,
    "scrolled": true
   },
   "outputs": [
    {
     "data": {
      "text/plain": [
       "Pipeline(steps=[('tfidf', TfidfVectorizer(analyzer=u'word', binary=False, decode_error=u'strict',\n",
       "        dtype=<type 'numpy.int64'>, encoding=u'utf-8', input=u'content',\n",
       "        lowercase=True, max_df=1.0, max_features=None, min_df=1,\n",
       "        ngram_range=(1, 1), norm=u'l2', preprocessor=None, smooth_idf=Tru...ty='l2', random_state=None, solver='liblinear', tol=0.0001,\n",
       "          verbose=0, warm_start=False))])"
      ]
     },
     "execution_count": 66,
     "metadata": {},
     "output_type": "execute_result"
    }
   ],
   "source": [
    "pipeline.fit(data_train, labels_train)"
   ]
  },
  {
   "cell_type": "code",
   "execution_count": 67,
   "metadata": {
    "collapsed": false
   },
   "outputs": [
    {
     "data": {
      "text/plain": [
       "0.61276986678915935"
      ]
     },
     "execution_count": 67,
     "metadata": {},
     "output_type": "execute_result"
    }
   ],
   "source": [
    "sklearn.metrics.accuracy_score(labels_test,pipeline.predict(data_test))"
   ]
  },
  {
   "cell_type": "code",
   "execution_count": 76,
   "metadata": {
    "collapsed": false
   },
   "outputs": [
    {
     "name": "stdout",
     "output_type": "stream",
     "text": [
      "Fitting 3 folds for each of 20 candidates, totalling 60 fits\n",
      "[CV] clf__tol=1.0, clf__C=1e-05 ......................................\n",
      "[CV] ............................. clf__tol=1.0, clf__C=1e-05 -   5.4s\n",
      "[CV] clf__tol=1.0, clf__C=1e-05 ......................................\n",
      "[CV] ............................. clf__tol=1.0, clf__C=1e-05 -   5.6s\n",
      "[CV] clf__tol=1.0, clf__C=1e-05 ......................................\n",
      "[CV] ............................. clf__tol=1.0, clf__C=1e-05 -   5.6s\n",
      "[CV] clf__tol=0.0464158883361, clf__C=1e-05 ..........................\n",
      "[CV] ................. clf__tol=0.0464158883361, clf__C=1e-05 -   6.3s\n",
      "[CV] clf__tol=0.0464158883361, clf__C=1e-05 ..........................\n",
      "[CV] ................. clf__tol=0.0464158883361, clf__C=1e-05 -   6.8s\n",
      "[CV] clf__tol=0.0464158883361, clf__C=1e-05 ..........................\n",
      "[CV] ................. clf__tol=0.0464158883361, clf__C=1e-05 -   5.6s\n",
      "[CV] clf__tol=0.00215443469003, clf__C=1e-05 .........................\n",
      "[CV] ................ clf__tol=0.00215443469003, clf__C=1e-05 -   6.0s\n",
      "[CV] clf__tol=0.00215443469003, clf__C=1e-05 .........................\n",
      "[CV] ................ clf__tol=0.00215443469003, clf__C=1e-05 -   6.0s\n",
      "[CV] clf__tol=0.00215443469003, clf__C=1e-05 .........................\n",
      "[CV] ................ clf__tol=0.00215443469003, clf__C=1e-05 -   5.6s\n",
      "[CV] clf__tol=0.0001, clf__C=1e-05 ...................................\n",
      "[CV] .......................... clf__tol=0.0001, clf__C=1e-05 -   5.9s\n",
      "[CV] clf__tol=0.0001, clf__C=1e-05 ...................................\n",
      "[CV] .......................... clf__tol=0.0001, clf__C=1e-05 -   6.7s\n",
      "[CV] clf__tol=0.0001, clf__C=1e-05 ...................................\n",
      "[CV] .......................... clf__tol=0.0001, clf__C=1e-05 -   6.5s\n",
      "[CV] clf__tol=1.0, clf__C=0.00316227766017 ...........................\n",
      "[CV] .................. clf__tol=1.0, clf__C=0.00316227766017 -   5.8s\n",
      "[CV] clf__tol=1.0, clf__C=0.00316227766017 ...........................\n",
      "[CV] .................. clf__tol=1.0, clf__C=0.00316227766017 -   5.8s\n",
      "[CV] clf__tol=1.0, clf__C=0.00316227766017 ...........................\n",
      "[CV] .................. clf__tol=1.0, clf__C=0.00316227766017 -   6.0s\n",
      "[CV] clf__tol=0.0464158883361, clf__C=0.00316227766017 ...............\n",
      "[CV] ...... clf__tol=0.0464158883361, clf__C=0.00316227766017 -   6.8s\n",
      "[CV] clf__tol=0.0464158883361, clf__C=0.00316227766017 ...............\n",
      "[CV] ...... clf__tol=0.0464158883361, clf__C=0.00316227766017 -   6.6s\n",
      "[CV] clf__tol=0.0464158883361, clf__C=0.00316227766017 ...............\n",
      "[CV] ...... clf__tol=0.0464158883361, clf__C=0.00316227766017 -   6.1s\n",
      "[CV] clf__tol=0.00215443469003, clf__C=0.00316227766017 ..............\n",
      "[CV] ..... clf__tol=0.00215443469003, clf__C=0.00316227766017 -   7.3s\n",
      "[CV] clf__tol=0.00215443469003, clf__C=0.00316227766017 ..............\n",
      "[CV] ..... clf__tol=0.00215443469003, clf__C=0.00316227766017 -   6.3s\n",
      "[CV] clf__tol=0.00215443469003, clf__C=0.00316227766017 ..............\n",
      "[CV] ..... clf__tol=0.00215443469003, clf__C=0.00316227766017 -   6.1s\n",
      "[CV] clf__tol=0.0001, clf__C=0.00316227766017 ........................\n",
      "[CV] ............... clf__tol=0.0001, clf__C=0.00316227766017 -   6.5s\n",
      "[CV] clf__tol=0.0001, clf__C=0.00316227766017 ........................\n",
      "[CV] ............... clf__tol=0.0001, clf__C=0.00316227766017 -   6.4s\n",
      "[CV] clf__tol=0.0001, clf__C=0.00316227766017 ........................\n",
      "[CV] ............... clf__tol=0.0001, clf__C=0.00316227766017 -   6.8s\n",
      "[CV] clf__tol=1.0, clf__C=1.0 ........................................\n",
      "[CV] ............................... clf__tol=1.0, clf__C=1.0 -   6.0s\n",
      "[CV] clf__tol=1.0, clf__C=1.0 ........................................\n",
      "[CV] ............................... clf__tol=1.0, clf__C=1.0 -   6.3s\n",
      "[CV] clf__tol=1.0, clf__C=1.0 ........................................\n",
      "[CV] ............................... clf__tol=1.0, clf__C=1.0 -   6.6s\n",
      "[CV] clf__tol=0.0464158883361, clf__C=1.0 ............................\n",
      "[CV] ................... clf__tol=0.0464158883361, clf__C=1.0 -   8.8s\n",
      "[CV] clf__tol=0.0464158883361, clf__C=1.0 ............................\n",
      "[CV] ................... clf__tol=0.0464158883361, clf__C=1.0 -   8.8s\n",
      "[CV] clf__tol=0.0464158883361, clf__C=1.0 ............................\n",
      "[CV] ................... clf__tol=0.0464158883361, clf__C=1.0 -   7.6s\n",
      "[CV] clf__tol=0.00215443469003, clf__C=1.0 ...........................\n",
      "[CV] .................. clf__tol=0.00215443469003, clf__C=1.0 -   8.3s\n",
      "[CV] clf__tol=0.00215443469003, clf__C=1.0 ...........................\n",
      "[CV] .................. clf__tol=0.00215443469003, clf__C=1.0 -   8.2s\n",
      "[CV] clf__tol=0.00215443469003, clf__C=1.0 ...........................\n",
      "[CV] .................. clf__tol=0.00215443469003, clf__C=1.0 -   8.6s\n",
      "[CV] clf__tol=0.0001, clf__C=1.0 .....................................\n",
      "[CV] ............................ clf__tol=0.0001, clf__C=1.0 -   9.4s\n",
      "[CV] clf__tol=0.0001, clf__C=1.0 .....................................\n",
      "[CV] ............................ clf__tol=0.0001, clf__C=1.0 -  10.2s\n",
      "[CV] clf__tol=0.0001, clf__C=1.0 .....................................\n",
      "[CV] ............................ clf__tol=0.0001, clf__C=1.0 -  10.5s\n",
      "[CV] clf__tol=1.0, clf__C=316.227766017 ..............................\n",
      "[CV] ..................... clf__tol=1.0, clf__C=316.227766017 -   5.7s\n",
      "[CV] clf__tol=1.0, clf__C=316.227766017 ..............................\n",
      "[CV] ..................... clf__tol=1.0, clf__C=316.227766017 -   5.6s\n",
      "[CV] clf__tol=1.0, clf__C=316.227766017 ..............................\n",
      "[CV] ..................... clf__tol=1.0, clf__C=316.227766017 -   5.6s\n",
      "[CV] clf__tol=0.0464158883361, clf__C=316.227766017 ..................\n",
      "[CV] ......... clf__tol=0.0464158883361, clf__C=316.227766017 -  10.7s\n",
      "[CV] clf__tol=0.0464158883361, clf__C=316.227766017 ..................\n"
     ]
    },
    {
     "name": "stderr",
     "output_type": "stream",
     "text": [
      "[Parallel(n_jobs=1)]: Done  40 tasks       | elapsed:  4.6min\n"
     ]
    },
    {
     "name": "stdout",
     "output_type": "stream",
     "text": [
      "[CV] ......... clf__tol=0.0464158883361, clf__C=316.227766017 -  10.7s\n",
      "[CV] clf__tol=0.0464158883361, clf__C=316.227766017 ..................\n",
      "[CV] ......... clf__tol=0.0464158883361, clf__C=316.227766017 -  10.7s\n",
      "[CV] clf__tol=0.00215443469003, clf__C=316.227766017 .................\n",
      "[CV] ........ clf__tol=0.00215443469003, clf__C=316.227766017 -  25.9s\n",
      "[CV] clf__tol=0.00215443469003, clf__C=316.227766017 .................\n",
      "[CV] ........ clf__tol=0.00215443469003, clf__C=316.227766017 -  26.4s\n",
      "[CV] clf__tol=0.00215443469003, clf__C=316.227766017 .................\n",
      "[CV] ........ clf__tol=0.00215443469003, clf__C=316.227766017 -  26.6s\n",
      "[CV] clf__tol=0.0001, clf__C=316.227766017 ...........................\n",
      "[CV] .................. clf__tol=0.0001, clf__C=316.227766017 -  34.5s\n",
      "[CV] clf__tol=0.0001, clf__C=316.227766017 ...........................\n",
      "[CV] .................. clf__tol=0.0001, clf__C=316.227766017 -  34.5s\n",
      "[CV] clf__tol=0.0001, clf__C=316.227766017 ...........................\n",
      "[CV] .................. clf__tol=0.0001, clf__C=316.227766017 -  31.6s\n",
      "[CV] clf__tol=1.0, clf__C=100000.0 ...................................\n",
      "[CV] .......................... clf__tol=1.0, clf__C=100000.0 -   5.6s\n",
      "[CV] clf__tol=1.0, clf__C=100000.0 ...................................\n",
      "[CV] .......................... clf__tol=1.0, clf__C=100000.0 -   5.6s\n",
      "[CV] clf__tol=1.0, clf__C=100000.0 ...................................\n",
      "[CV] .......................... clf__tol=1.0, clf__C=100000.0 -   5.5s\n",
      "[CV] clf__tol=0.0464158883361, clf__C=100000.0 .......................\n",
      "[CV] .............. clf__tol=0.0464158883361, clf__C=100000.0 -  10.6s\n",
      "[CV] clf__tol=0.0464158883361, clf__C=100000.0 .......................\n",
      "[CV] .............. clf__tol=0.0464158883361, clf__C=100000.0 -  11.0s\n",
      "[CV] clf__tol=0.0464158883361, clf__C=100000.0 .......................\n",
      "[CV] .............. clf__tol=0.0464158883361, clf__C=100000.0 -  10.3s\n",
      "[CV] clf__tol=0.00215443469003, clf__C=100000.0 ......................\n",
      "[CV] ............. clf__tol=0.00215443469003, clf__C=100000.0 -  41.7s\n",
      "[CV] clf__tol=0.00215443469003, clf__C=100000.0 ......................\n",
      "[CV] ............. clf__tol=0.00215443469003, clf__C=100000.0 -  42.3s\n",
      "[CV] clf__tol=0.00215443469003, clf__C=100000.0 ......................\n",
      "[CV] ............. clf__tol=0.00215443469003, clf__C=100000.0 -  34.3s\n",
      "[CV] clf__tol=0.0001, clf__C=100000.0 ................................\n",
      "[CV] ....................... clf__tol=0.0001, clf__C=100000.0 - 2.3min\n",
      "[CV] clf__tol=0.0001, clf__C=100000.0 ................................\n",
      "[CV] ....................... clf__tol=0.0001, clf__C=100000.0 - 2.1min\n",
      "[CV] clf__tol=0.0001, clf__C=100000.0 ................................\n",
      "[CV] ....................... clf__tol=0.0001, clf__C=100000.0 - 2.5min\n"
     ]
    },
    {
     "name": "stderr",
     "output_type": "stream",
     "text": [
      "[Parallel(n_jobs=1)]: Done  60 out of  60 | elapsed: 17.7min finished\n"
     ]
    },
    {
     "data": {
      "text/plain": [
       "0.6164446485989894"
      ]
     },
     "execution_count": 76,
     "metadata": {},
     "output_type": "execute_result"
    }
   ],
   "source": [
    "grid_search = GridSearchCV(pipeline, parameters, verbose =2)\n",
    "grid_search.fit(data_train, labels_train)\n",
    "\n",
    "sklearn.metrics.accuracy_score(labels_test, grid_search.predict(data_test))"
   ]
  },
  {
   "cell_type": "code",
   "execution_count": 79,
   "metadata": {
    "collapsed": true
   },
   "outputs": [],
   "source": [
    "text_stemmed = list(clean_data['Text_Stemmed'])\n",
    "\n",
    "tfidf_stem = TfidfVectorizer(stop_words='english')\n",
    "train_tfidf = tfidf_stem.fit_transform(text_stemmed)"
   ]
  },
  {
   "cell_type": "code",
   "execution_count": 80,
   "metadata": {
    "collapsed": true
   },
   "outputs": [],
   "source": [
    "data_train, data_test, labels_train, labels_test = sklearn.cross_validation.train_test_split(train_tfidf, clean_data['Category'], test_size = 0.20)"
   ]
  },
  {
   "cell_type": "code",
   "execution_count": 81,
   "metadata": {
    "collapsed": false
   },
   "outputs": [
    {
     "data": {
      "text/plain": [
       "0.65434083601286175"
      ]
     },
     "execution_count": 81,
     "metadata": {},
     "output_type": "execute_result"
    }
   ],
   "source": [
    "regressionl1 = LogisticRegression(penalty='l1', C=0.26366508987303555, tol=0.01)\n",
    "regressionl1.fit(data_train,labels_train)\n",
    "sklearn.metrics.accuracy_score(labels_test, regressionl1.predict(data_test))"
   ]
  },
  {
   "cell_type": "code",
   "execution_count": 78,
   "metadata": {
    "collapsed": false
   },
   "outputs": [
    {
     "data": {
      "text/plain": [
       "8549     dow agrosci announc new enlist weed control sy...\n",
       "11637    fungicid resist soybean diseas spread soybean ...\n",
       "11934    risk follow canada canola load china canadian ...\n",
       "1142     five tip stay ahead herbicid resist weed unit ...\n",
       "7434     assess potenti damag estim winter wheat yield ...\n",
       "5896     doubl crop soybean michigan doubl crop soybean...\n",
       "12204    feed pea benchmark bi weekli report feed pea b...\n",
       "18647    agricultur futur fall cbot wheat deliveri fell...\n",
       "4280     soybean futur price higher day wednesday close...\n",
       "4432     usda wasd report full coverag full coverag usd...\n",
       "1290     canola recov short cover cbot soybean bounc ca...\n",
       "5230     wasd wheat suppli rais million bushel wheat u ...\n",
       "8881     usda announc counti loan rate wheat feed grain...\n",
       "14452                               u soybean harvest wind\n",
       "15584    iowa soybean associ iowa state univers publish...\n",
       "18380    audio problemat diseas puls crop two problemat...\n",
       "7089     usda weekli export sale highlight usda summari...\n",
       "11158    gain wheat futur high cattl contract market li...\n",
       "18833    bloomberg wheat fall dollar gain curb u export...\n",
       "256      video grain market analysi market monitor week...\n",
       "15964    usda weekli nation grain market review usda we...\n",
       "1984     moistur boost eastern texa hay growth unlik co...\n",
       "18954    farmer must test flax discoveri de regist gm v...\n",
       "11744    control weed edibl soybean michigan weed contr...\n",
       "896      oilse market report th juli usda report us whe...\n",
       "8774     forag forecast conserv strategi dairi produc s...\n",
       "7049     senat kibbi propos bill support biodiesel indu...\n",
       "15633    corn plant full swing final angela mcclure ext...\n",
       "13028    crop market gear usda report corn futur call c...\n",
       "14365    foliar feed anthoni blywatch corn soybean deve...\n",
       "                               ...                        \n",
       "17337    usda wasd rice suppli report rice chang made u...\n",
       "14291    cotton rice soybean product cost jonesboro ark...\n",
       "10793    addit note frogey leaf spot ann dorrancefollow...\n",
       "6794     palmer amaranth among soybean weed expect majo...\n",
       "19545    epa increas rf volum deal blow chicken produc ...\n",
       "8750     conserv major threaten farmer futur bill toew ...\n",
       "1438     dicamba burndown carri soybean larri steckel e...\n",
       "10265    sign tpp today anoth step benefit alberta cano...\n",
       "19371    mark loux harvest aid corn soybean mark loux l...\n",
       "4582     alta canola grower keep distanc cwb idea alber...\n",
       "21551    canola meet inform farmer farmer interest prod...\n",
       "3436     corn silag dri dri weather hasten moistur loss...\n",
       "16646    seamon discuss ddg futur export exchang export...\n",
       "12057    usda world grain suppli demand report releas m...\n",
       "1322     syngenta resist fighter web site offer solut g...\n",
       "4414     kansa soybean perform test result avail onlin ...\n",
       "19639    usda export sale report wheat net sale deliver...\n",
       "13822    bloomberg soybean corn fall specul recess redu...\n",
       "6718     texa agrilif extens summer burn option pastur ...\n",
       "8059     soybean prolong heavi rain sure expect state s...\n",
       "3064     heat oil industri ignit demand biodiesel usb l...\n",
       "4290     soybean futur price jump demand friday close g...\n",
       "7525     n top wheat produc u north dakota produc perce...\n",
       "1536     quick turn around burndown option soybean larr...\n",
       "9808     high qualiti forag ul li list style type squar...\n",
       "7409     cover oper use till method texa beat drought b...\n",
       "7001     usda announc biotechnolog regulatori action wa...\n",
       "17209    updat cereal leaf beetl black cutworm grower a...\n",
       "4387     corn soybean wheat futur price plummet wednesd...\n",
       "9893     u drought monitor latest updat nation drought ...\n",
       "Name: Text_Stemmed, dtype: object"
      ]
     },
     "execution_count": 78,
     "metadata": {},
     "output_type": "execute_result"
    }
   ],
   "source": [
    "data_train"
   ]
  },
  {
   "cell_type": "code",
   "execution_count": null,
   "metadata": {
    "collapsed": true
   },
   "outputs": [],
   "source": []
  }
 ],
 "metadata": {
  "kernelspec": {
   "display_name": "Python 2",
   "language": "python",
   "name": "python2"
  },
  "language_info": {
   "codemirror_mode": {
    "name": "ipython",
    "version": 2
   },
   "file_extension": ".py",
   "mimetype": "text/x-python",
   "name": "python",
   "nbconvert_exporter": "python",
   "pygments_lexer": "ipython2",
   "version": "2.7.11"
  }
 },
 "nbformat": 4,
 "nbformat_minor": 0
}
