{
 "cells": [
  {
   "cell_type": "code",
   "execution_count": 1,
   "metadata": {
    "collapsed": true
   },
   "outputs": [],
   "source": [
    "import pandas as pd\n",
    "import numpy as np\n",
    "import matplotlib\n",
    "import matplotlib.pyplot as plt\n",
    "\n",
    "%matplotlib inline"
   ]
  },
  {
   "cell_type": "code",
   "execution_count": 13,
   "metadata": {
    "collapsed": true
   },
   "outputs": [],
   "source": [
    "data = pd.read_csv('data.csv')"
   ]
  },
  {
   "cell_type": "code",
   "execution_count": 37,
   "metadata": {
    "collapsed": false
   },
   "outputs": [
    {
     "data": {
      "text/html": [
       "<div>\n",
       "<table border=\"1\" class=\"dataframe\">\n",
       "  <thead>\n",
       "    <tr style=\"text-align: right;\">\n",
       "      <th></th>\n",
       "      <th>Category</th>\n",
       "      <th>Text</th>\n",
       "    </tr>\n",
       "  </thead>\n",
       "  <tbody>\n",
       "    <tr>\n",
       "      <th>0</th>\n",
       "      <td>Farmland</td>\n",
       "      <td>US land prices extend decline - but at slower ...</td>\n",
       "    </tr>\n",
       "    <tr>\n",
       "      <th>1</th>\n",
       "      <td>Farmland</td>\n",
       "      <td>Dry weather forces BrasilAgro to slash corn so...</td>\n",
       "    </tr>\n",
       "    <tr>\n",
       "      <th>2</th>\n",
       "      <td>Farmland</td>\n",
       "      <td>Australia delays ruling on $290m China-backed ...</td>\n",
       "    </tr>\n",
       "    <tr>\n",
       "      <th>3</th>\n",
       "      <td>Farmland</td>\n",
       "      <td>Demand for high-end dairy farms in NZ shows 'l...</td>\n",
       "    </tr>\n",
       "    <tr>\n",
       "      <th>4</th>\n",
       "      <td>Farmland</td>\n",
       "      <td>FirstFarms unveils plan to exploit Slovakian l...</td>\n",
       "    </tr>\n",
       "  </tbody>\n",
       "</table>\n",
       "</div>"
      ],
      "text/plain": [
       "   Category                                               Text\n",
       "0  Farmland  US land prices extend decline - but at slower ...\n",
       "1  Farmland  Dry weather forces BrasilAgro to slash corn so...\n",
       "2  Farmland  Australia delays ruling on $290m China-backed ...\n",
       "3  Farmland  Demand for high-end dairy farms in NZ shows 'l...\n",
       "4  Farmland  FirstFarms unveils plan to exploit Slovakian l..."
      ]
     },
     "execution_count": 37,
     "metadata": {},
     "output_type": "execute_result"
    }
   ],
   "source": [
    "data.head()"
   ]
  },
  {
   "cell_type": "code",
   "execution_count": 4,
   "metadata": {
    "collapsed": false
   },
   "outputs": [
    {
     "data": {
      "text/plain": [
       "array(['Canola', 'Cocoa', 'Coffee', 'Corn', 'Cotton & wool', 'Dairy',\n",
       "       'Farmland', 'Fertilizer', 'Hay & Forage', 'Horticulture',\n",
       "       'Livestock & poultry', 'Pulse', 'Soybeans', 'Soybeans & oilseeds',\n",
       "       'Sugar', 'Wheat', 'Wheat & cereals'], dtype=object)"
      ]
     },
     "execution_count": 4,
     "metadata": {},
     "output_type": "execute_result"
    }
   ],
   "source": [
    "np.unique(data['Category'])"
   ]
  },
  {
   "cell_type": "code",
   "execution_count": 36,
   "metadata": {
    "collapsed": false
   },
   "outputs": [
    {
     "data": {
      "text/plain": [
       "Soybeans               5904\n",
       "Wheat                  5563\n",
       "Corn                   3875\n",
       "Hay & Forage           2632\n",
       "Canola                 2150\n",
       "Pulse                  1644\n",
       "Horticulture            703\n",
       "Dairy                    13\n",
       "Coffee                   13\n",
       "Livestock & poultry      13\n",
       "Farmland                 13\n",
       "Fertilizer               13\n",
       "Cocoa                    13\n",
       "Cotton & wool            13\n",
       "Sugar                    13\n",
       "Name: Category, dtype: int64"
      ]
     },
     "execution_count": 36,
     "metadata": {},
     "output_type": "execute_result"
    }
   ],
   "source": [
    "data['Category'].value_counts()"
   ]
  },
  {
   "cell_type": "code",
   "execution_count": 14,
   "metadata": {
    "collapsed": false
   },
   "outputs": [],
   "source": [
    "def combine_categories(x):\n",
    "    if x=='Soybeans & oilseeds':\n",
    "        return 'Soybeans'\n",
    "    elif x=='Wheat & cereals':\n",
    "        return 'Wheat'\n",
    "    else:\n",
    "        return x\n",
    "\n",
    "data['Category'] = data['Category'].apply(combine_categories)"
   ]
  },
  {
   "cell_type": "code",
   "execution_count": 19,
   "metadata": {
    "collapsed": false
   },
   "outputs": [],
   "source": [
    "count_data = data['Category'].value_counts()"
   ]
  },
  {
   "cell_type": "code",
   "execution_count": 20,
   "metadata": {
    "collapsed": false
   },
   "outputs": [
    {
     "data": {
      "text/plain": [
       "Soybeans               5904\n",
       "Wheat                  5563\n",
       "Corn                   3875\n",
       "Hay & Forage           2632\n",
       "Canola                 2150\n",
       "Pulse                  1644\n",
       "Horticulture            703\n",
       "Dairy                    13\n",
       "Coffee                   13\n",
       "Livestock & poultry      13\n",
       "Farmland                 13\n",
       "Fertilizer               13\n",
       "Cocoa                    13\n",
       "Cotton & wool            13\n",
       "Sugar                    13\n",
       "Name: Category, dtype: int64"
      ]
     },
     "execution_count": 20,
     "metadata": {},
     "output_type": "execute_result"
    }
   ],
   "source": [
    "count_data"
   ]
  },
  {
   "cell_type": "code",
   "execution_count": 44,
   "metadata": {
    "collapsed": false
   },
   "outputs": [
    {
     "data": {
      "text/plain": [
       "['Horticulture',\n",
       " 'Dairy',\n",
       " 'Coffee',\n",
       " 'Livestock & poultry',\n",
       " 'Farmland',\n",
       " 'Fertilizer',\n",
       " 'Cocoa',\n",
       " 'Cotton & wool',\n",
       " 'Sugar']"
      ]
     },
     "execution_count": 44,
     "metadata": {},
     "output_type": "execute_result"
    }
   ],
   "source": [
    "leaveout = count_data[count_data<800]\n",
    "list(leaveout.index)"
   ]
  },
  {
   "cell_type": "code",
   "execution_count": 45,
   "metadata": {
    "collapsed": false
   },
   "outputs": [],
   "source": [
    "sub_data = data\n",
    "for col in list(leaveout.index):\n",
    "    sub_data = sub_data[sub_data['Category'] != col]"
   ]
  },
  {
   "cell_type": "code",
   "execution_count": 46,
   "metadata": {
    "collapsed": false
   },
   "outputs": [
    {
     "data": {
      "text/plain": [
       "Soybeans        5904\n",
       "Wheat           5563\n",
       "Corn            3875\n",
       "Hay & Forage    2632\n",
       "Canola          2150\n",
       "Pulse           1644\n",
       "Name: Category, dtype: int64"
      ]
     },
     "execution_count": 46,
     "metadata": {},
     "output_type": "execute_result"
    }
   ],
   "source": [
    "sub_data['Category'].value_counts()"
   ]
  },
  {
   "cell_type": "code",
   "execution_count": 47,
   "metadata": {
    "collapsed": false
   },
   "outputs": [
    {
     "data": {
      "text/html": [
       "<div>\n",
       "<table border=\"1\" class=\"dataframe\">\n",
       "  <thead>\n",
       "    <tr style=\"text-align: right;\">\n",
       "      <th></th>\n",
       "      <th>Category</th>\n",
       "      <th>Text</th>\n",
       "    </tr>\n",
       "  </thead>\n",
       "  <tbody>\n",
       "    <tr>\n",
       "      <th>13</th>\n",
       "      <td>Hay &amp; Forage</td>\n",
       "      <td>Haying, Harvesting Tips To Help Reduce Wildli...</td>\n",
       "    </tr>\n",
       "    <tr>\n",
       "      <th>14</th>\n",
       "      <td>Hay &amp; Forage</td>\n",
       "      <td>Assessing Alfalfa Stand Condition In The Spri...</td>\n",
       "    </tr>\n",
       "    <tr>\n",
       "      <th>15</th>\n",
       "      <td>Hay &amp; Forage</td>\n",
       "      <td>Cut Hay Or Spray – 7 Points To Consider In Al...</td>\n",
       "    </tr>\n",
       "    <tr>\n",
       "      <th>16</th>\n",
       "      <td>Hay &amp; Forage</td>\n",
       "      <td>USDA Crop Progress Report: Soybeans 83% In. (...</td>\n",
       "    </tr>\n",
       "    <tr>\n",
       "      <th>17</th>\n",
       "      <td>Hay &amp; Forage</td>\n",
       "      <td>Annual Forages following Irrigated Winter Whe...</td>\n",
       "    </tr>\n",
       "    <tr>\n",
       "      <th>18</th>\n",
       "      <td>Hay &amp; Forage</td>\n",
       "      <td>Summer Pasture Rental Rates On A Price Per To...</td>\n",
       "    </tr>\n",
       "    <tr>\n",
       "      <th>19</th>\n",
       "      <td>Hay &amp; Forage</td>\n",
       "      <td>Problem Pasture Weeds  (Jun 06, 2016)By Willi...</td>\n",
       "    </tr>\n",
       "    <tr>\n",
       "      <th>20</th>\n",
       "      <td>Hay &amp; Forage</td>\n",
       "      <td>Improving The Efficiency Of Your Hay Producti...</td>\n",
       "    </tr>\n",
       "    <tr>\n",
       "      <th>21</th>\n",
       "      <td>Hay &amp; Forage</td>\n",
       "      <td>Large Populations Of Cressleaf Groundsel Weed...</td>\n",
       "    </tr>\n",
       "    <tr>\n",
       "      <th>22</th>\n",
       "      <td>Hay &amp; Forage</td>\n",
       "      <td>Problem Pasture Weeds (Jun 02, 2016)Tips for ...</td>\n",
       "    </tr>\n",
       "    <tr>\n",
       "      <th>23</th>\n",
       "      <td>Hay &amp; Forage</td>\n",
       "      <td>USDA Crop Progress Report: Corn 94% Planted. ...</td>\n",
       "    </tr>\n",
       "    <tr>\n",
       "      <th>24</th>\n",
       "      <td>Hay &amp; Forage</td>\n",
       "      <td>Dickinson Research Extension Center To Host P...</td>\n",
       "    </tr>\n",
       "    <tr>\n",
       "      <th>25</th>\n",
       "      <td>Hay &amp; Forage</td>\n",
       "      <td>Understanding Wet Hay (Jun 01, 2016)Spring ra...</td>\n",
       "    </tr>\n",
       "    <tr>\n",
       "      <th>26</th>\n",
       "      <td>Hay &amp; Forage</td>\n",
       "      <td>Hay Market Demand And Price Report For The Up...</td>\n",
       "    </tr>\n",
       "    <tr>\n",
       "      <th>27</th>\n",
       "      <td>Hay &amp; Forage</td>\n",
       "      <td>Keep An Eye On Cutting Height To Maintain For...</td>\n",
       "    </tr>\n",
       "    <tr>\n",
       "      <th>28</th>\n",
       "      <td>Hay &amp; Forage</td>\n",
       "      <td>Multiflora Rose Control In Pastures  (May 25,...</td>\n",
       "    </tr>\n",
       "    <tr>\n",
       "      <th>29</th>\n",
       "      <td>Hay &amp; Forage</td>\n",
       "      <td>Texas Crop And Weather Report – May 24 (May 2...</td>\n",
       "    </tr>\n",
       "    <tr>\n",
       "      <th>30</th>\n",
       "      <td>Hay &amp; Forage</td>\n",
       "      <td>Use Dormant Native Range And Supplements To P...</td>\n",
       "    </tr>\n",
       "    <tr>\n",
       "      <th>31</th>\n",
       "      <td>Hay &amp; Forage</td>\n",
       "      <td>Cressleaf Groundsel In Wheat And Hay (May 24,...</td>\n",
       "    </tr>\n",
       "    <tr>\n",
       "      <th>32</th>\n",
       "      <td>Hay &amp; Forage</td>\n",
       "      <td>Old World Bluestem, Real World Concerns: Info...</td>\n",
       "    </tr>\n",
       "    <tr>\n",
       "      <th>33</th>\n",
       "      <td>Hay &amp; Forage</td>\n",
       "      <td>Growers In Northern Counties May Need To Supp...</td>\n",
       "    </tr>\n",
       "    <tr>\n",
       "      <th>34</th>\n",
       "      <td>Hay &amp; Forage</td>\n",
       "      <td>True White Grub &amp; June Beetle Update  (May 20...</td>\n",
       "    </tr>\n",
       "    <tr>\n",
       "      <th>35</th>\n",
       "      <td>Hay &amp; Forage</td>\n",
       "      <td>High Quality Forages (May 18, 2016)UL LI{list...</td>\n",
       "    </tr>\n",
       "    <tr>\n",
       "      <th>36</th>\n",
       "      <td>Hay &amp; Forage</td>\n",
       "      <td>Fungicide Use On Alfalfa (May 17, 2016)By Mar...</td>\n",
       "    </tr>\n",
       "    <tr>\n",
       "      <th>37</th>\n",
       "      <td>Hay &amp; Forage</td>\n",
       "      <td>Make Hay When The Sun Shines…What Sun? (May 1...</td>\n",
       "    </tr>\n",
       "    <tr>\n",
       "      <th>38</th>\n",
       "      <td>Hay &amp; Forage</td>\n",
       "      <td>Spring Alfalfa Management: Stand Assessments,...</td>\n",
       "    </tr>\n",
       "    <tr>\n",
       "      <th>39</th>\n",
       "      <td>Hay &amp; Forage</td>\n",
       "      <td>Spring Growth Differences In Bahiagrass Varie...</td>\n",
       "    </tr>\n",
       "    <tr>\n",
       "      <th>40</th>\n",
       "      <td>Hay &amp; Forage</td>\n",
       "      <td>To Graze Or Not To Graze: Legumes Need Some T...</td>\n",
       "    </tr>\n",
       "    <tr>\n",
       "      <th>41</th>\n",
       "      <td>Hay &amp; Forage</td>\n",
       "      <td>Alfalfa Weevil Larval Feeding Starting In Sou...</td>\n",
       "    </tr>\n",
       "    <tr>\n",
       "      <th>42</th>\n",
       "      <td>Hay &amp; Forage</td>\n",
       "      <td>5 Defining Features Of The John Deere 8800 Fo...</td>\n",
       "    </tr>\n",
       "    <tr>\n",
       "      <th>...</th>\n",
       "      <td>...</td>\n",
       "      <td>...</td>\n",
       "    </tr>\n",
       "    <tr>\n",
       "      <th>22506</th>\n",
       "      <td>Canola</td>\n",
       "      <td>WCE Grain/Oilseed Review: Canola Mixed As C$ ...</td>\n",
       "    </tr>\n",
       "    <tr>\n",
       "      <th>22507</th>\n",
       "      <td>Canola</td>\n",
       "      <td>WCE Grain/Oilseed Review: Canola Down on Weak...</td>\n",
       "    </tr>\n",
       "    <tr>\n",
       "      <th>22508</th>\n",
       "      <td>Canola</td>\n",
       "      <td>Pre-Opening Corn Market Report by CBOT (Oct 3...</td>\n",
       "    </tr>\n",
       "    <tr>\n",
       "      <th>22509</th>\n",
       "      <td>Canola</td>\n",
       "      <td>WCE Grain/Oilseed Review: Canola Falls With U...</td>\n",
       "    </tr>\n",
       "    <tr>\n",
       "      <th>22510</th>\n",
       "      <td>Canola</td>\n",
       "      <td>Winnipeg Commodity Exchange prices open mixed...</td>\n",
       "    </tr>\n",
       "    <tr>\n",
       "      <th>22511</th>\n",
       "      <td>Canola</td>\n",
       "      <td>WCE pre-open: Canola to move down (Nov 01, 20...</td>\n",
       "    </tr>\n",
       "    <tr>\n",
       "      <th>22512</th>\n",
       "      <td>Canola</td>\n",
       "      <td>WCE Grain/Oilseed Review: Strong C$ Undermine...</td>\n",
       "    </tr>\n",
       "    <tr>\n",
       "      <th>22513</th>\n",
       "      <td>Canola</td>\n",
       "      <td>Winnipeg Commodity Exchange Sees Another Reco...</td>\n",
       "    </tr>\n",
       "    <tr>\n",
       "      <th>22514</th>\n",
       "      <td>Canola</td>\n",
       "      <td>WCE pre-open: Canola called lower (Nov 04, 20...</td>\n",
       "    </tr>\n",
       "    <tr>\n",
       "      <th>22515</th>\n",
       "      <td>Canola</td>\n",
       "      <td>WCE Grain/Oilseed Review: Canola Falls On Slo...</td>\n",
       "    </tr>\n",
       "    <tr>\n",
       "      <th>22516</th>\n",
       "      <td>Canola</td>\n",
       "      <td>WCE Grain/Oilseed Review: Late Soybean Reboun...</td>\n",
       "    </tr>\n",
       "    <tr>\n",
       "      <th>22517</th>\n",
       "      <td>Canola</td>\n",
       "      <td>WCE Grain/Oilseed Pre-Open: Canola To Start H...</td>\n",
       "    </tr>\n",
       "    <tr>\n",
       "      <th>22518</th>\n",
       "      <td>Canola</td>\n",
       "      <td>WCE Grain/Oilseed Review: Canola Firm On Weak...</td>\n",
       "    </tr>\n",
       "    <tr>\n",
       "      <th>22519</th>\n",
       "      <td>Canola</td>\n",
       "      <td>WCE Grain/Oilseed Review: Canola Up On CBOT S...</td>\n",
       "    </tr>\n",
       "    <tr>\n",
       "      <th>22520</th>\n",
       "      <td>Canola</td>\n",
       "      <td>WCE Grain/Oilseed Review: Canola Boosted By F...</td>\n",
       "    </tr>\n",
       "    <tr>\n",
       "      <th>22521</th>\n",
       "      <td>Canola</td>\n",
       "      <td>WCE Grain/Oilseed Review: Hedging Erases Cano...</td>\n",
       "    </tr>\n",
       "    <tr>\n",
       "      <th>22522</th>\n",
       "      <td>Canola</td>\n",
       "      <td>WCE Grain/Oilseed Review: Crusher/Fund Demand...</td>\n",
       "    </tr>\n",
       "    <tr>\n",
       "      <th>22549</th>\n",
       "      <td>Corn</td>\n",
       "      <td>Grain prices to stay 'in check' - but 'scope' ...</td>\n",
       "    </tr>\n",
       "    <tr>\n",
       "      <th>22550</th>\n",
       "      <td>Corn</td>\n",
       "      <td>Pressure rises on Brazil to import wheat - fro...</td>\n",
       "    </tr>\n",
       "    <tr>\n",
       "      <th>22551</th>\n",
       "      <td>Corn</td>\n",
       "      <td>Hedge funds cut bullish bets on ags - but may ...</td>\n",
       "    </tr>\n",
       "    <tr>\n",
       "      <th>22552</th>\n",
       "      <td>Corn</td>\n",
       "      <td>China's quest for pigs fuels booming Vietnam d...</td>\n",
       "    </tr>\n",
       "    <tr>\n",
       "      <th>22553</th>\n",
       "      <td>Corn</td>\n",
       "      <td>Argentine corn harvest slowest in years - as f...</td>\n",
       "    </tr>\n",
       "    <tr>\n",
       "      <th>22554</th>\n",
       "      <td>Corn</td>\n",
       "      <td>Brazil corn shortfall 'could leave exporters i...</td>\n",
       "    </tr>\n",
       "    <tr>\n",
       "      <th>22555</th>\n",
       "      <td>Corn</td>\n",
       "      <td>IGC ups ideas of record 2016-17 grain stocks H...</td>\n",
       "    </tr>\n",
       "    <tr>\n",
       "      <th>22556</th>\n",
       "      <td>Corn</td>\n",
       "      <td>Brazil wheat prices hit two-year high, amid sc...</td>\n",
       "    </tr>\n",
       "    <tr>\n",
       "      <th>22557</th>\n",
       "      <td>Corn</td>\n",
       "      <td>Rabobank cautious over revivals in grain, coff...</td>\n",
       "    </tr>\n",
       "    <tr>\n",
       "      <th>22558</th>\n",
       "      <td>Corn</td>\n",
       "      <td>'About 80%' of Ukraine soy grown - illegally -...</td>\n",
       "    </tr>\n",
       "    <tr>\n",
       "      <th>22559</th>\n",
       "      <td>Corn</td>\n",
       "      <td>Hedge funds' spree of bullish ag bets spurs fe...</td>\n",
       "    </tr>\n",
       "    <tr>\n",
       "      <th>22560</th>\n",
       "      <td>Corn</td>\n",
       "      <td>Argentine wheat sowings to hit nine-year high ...</td>\n",
       "    </tr>\n",
       "    <tr>\n",
       "      <th>22561</th>\n",
       "      <td>Corn</td>\n",
       "      <td>Strategie Grains raises EU wheat production ou...</td>\n",
       "    </tr>\n",
       "  </tbody>\n",
       "</table>\n",
       "<p>21768 rows × 2 columns</p>\n",
       "</div>"
      ],
      "text/plain": [
       "           Category                                               Text\n",
       "13     Hay & Forage   Haying, Harvesting Tips To Help Reduce Wildli...\n",
       "14     Hay & Forage   Assessing Alfalfa Stand Condition In The Spri...\n",
       "15     Hay & Forage   Cut Hay Or Spray – 7 Points To Consider In Al...\n",
       "16     Hay & Forage   USDA Crop Progress Report: Soybeans 83% In. (...\n",
       "17     Hay & Forage   Annual Forages following Irrigated Winter Whe...\n",
       "18     Hay & Forage   Summer Pasture Rental Rates On A Price Per To...\n",
       "19     Hay & Forage   Problem Pasture Weeds  (Jun 06, 2016)By Willi...\n",
       "20     Hay & Forage   Improving The Efficiency Of Your Hay Producti...\n",
       "21     Hay & Forage   Large Populations Of Cressleaf Groundsel Weed...\n",
       "22     Hay & Forage   Problem Pasture Weeds (Jun 02, 2016)Tips for ...\n",
       "23     Hay & Forage   USDA Crop Progress Report: Corn 94% Planted. ...\n",
       "24     Hay & Forage   Dickinson Research Extension Center To Host P...\n",
       "25     Hay & Forage   Understanding Wet Hay (Jun 01, 2016)Spring ra...\n",
       "26     Hay & Forage   Hay Market Demand And Price Report For The Up...\n",
       "27     Hay & Forage   Keep An Eye On Cutting Height To Maintain For...\n",
       "28     Hay & Forage   Multiflora Rose Control In Pastures  (May 25,...\n",
       "29     Hay & Forage   Texas Crop And Weather Report – May 24 (May 2...\n",
       "30     Hay & Forage   Use Dormant Native Range And Supplements To P...\n",
       "31     Hay & Forage   Cressleaf Groundsel In Wheat And Hay (May 24,...\n",
       "32     Hay & Forage   Old World Bluestem, Real World Concerns: Info...\n",
       "33     Hay & Forage   Growers In Northern Counties May Need To Supp...\n",
       "34     Hay & Forage   True White Grub & June Beetle Update  (May 20...\n",
       "35     Hay & Forage   High Quality Forages (May 18, 2016)UL LI{list...\n",
       "36     Hay & Forage   Fungicide Use On Alfalfa (May 17, 2016)By Mar...\n",
       "37     Hay & Forage   Make Hay When The Sun Shines…What Sun? (May 1...\n",
       "38     Hay & Forage   Spring Alfalfa Management: Stand Assessments,...\n",
       "39     Hay & Forage   Spring Growth Differences In Bahiagrass Varie...\n",
       "40     Hay & Forage   To Graze Or Not To Graze: Legumes Need Some T...\n",
       "41     Hay & Forage   Alfalfa Weevil Larval Feeding Starting In Sou...\n",
       "42     Hay & Forage   5 Defining Features Of The John Deere 8800 Fo...\n",
       "...             ...                                                ...\n",
       "22506        Canola   WCE Grain/Oilseed Review: Canola Mixed As C$ ...\n",
       "22507        Canola   WCE Grain/Oilseed Review: Canola Down on Weak...\n",
       "22508        Canola   Pre-Opening Corn Market Report by CBOT (Oct 3...\n",
       "22509        Canola   WCE Grain/Oilseed Review: Canola Falls With U...\n",
       "22510        Canola   Winnipeg Commodity Exchange prices open mixed...\n",
       "22511        Canola   WCE pre-open: Canola to move down (Nov 01, 20...\n",
       "22512        Canola   WCE Grain/Oilseed Review: Strong C$ Undermine...\n",
       "22513        Canola   Winnipeg Commodity Exchange Sees Another Reco...\n",
       "22514        Canola   WCE pre-open: Canola called lower (Nov 04, 20...\n",
       "22515        Canola   WCE Grain/Oilseed Review: Canola Falls On Slo...\n",
       "22516        Canola   WCE Grain/Oilseed Review: Late Soybean Reboun...\n",
       "22517        Canola   WCE Grain/Oilseed Pre-Open: Canola To Start H...\n",
       "22518        Canola   WCE Grain/Oilseed Review: Canola Firm On Weak...\n",
       "22519        Canola   WCE Grain/Oilseed Review: Canola Up On CBOT S...\n",
       "22520        Canola   WCE Grain/Oilseed Review: Canola Boosted By F...\n",
       "22521        Canola   WCE Grain/Oilseed Review: Hedging Erases Cano...\n",
       "22522        Canola   WCE Grain/Oilseed Review: Crusher/Fund Demand...\n",
       "22549          Corn  Grain prices to stay 'in check' - but 'scope' ...\n",
       "22550          Corn  Pressure rises on Brazil to import wheat - fro...\n",
       "22551          Corn  Hedge funds cut bullish bets on ags - but may ...\n",
       "22552          Corn  China's quest for pigs fuels booming Vietnam d...\n",
       "22553          Corn  Argentine corn harvest slowest in years - as f...\n",
       "22554          Corn  Brazil corn shortfall 'could leave exporters i...\n",
       "22555          Corn  IGC ups ideas of record 2016-17 grain stocks H...\n",
       "22556          Corn  Brazil wheat prices hit two-year high, amid sc...\n",
       "22557          Corn  Rabobank cautious over revivals in grain, coff...\n",
       "22558          Corn  'About 80%' of Ukraine soy grown - illegally -...\n",
       "22559          Corn  Hedge funds' spree of bullish ag bets spurs fe...\n",
       "22560          Corn  Argentine wheat sowings to hit nine-year high ...\n",
       "22561          Corn  Strategie Grains raises EU wheat production ou...\n",
       "\n",
       "[21768 rows x 2 columns]"
      ]
     },
     "execution_count": 47,
     "metadata": {},
     "output_type": "execute_result"
    }
   ],
   "source": [
    "sub_data"
   ]
  },
  {
   "cell_type": "code",
   "execution_count": null,
   "metadata": {
    "collapsed": true
   },
   "outputs": [],
   "source": []
  }
 ],
 "metadata": {
  "kernelspec": {
   "display_name": "Python 2",
   "language": "python",
   "name": "python2"
  },
  "language_info": {
   "codemirror_mode": {
    "name": "ipython",
    "version": 2
   },
   "file_extension": ".py",
   "mimetype": "text/x-python",
   "name": "python",
   "nbconvert_exporter": "python",
   "pygments_lexer": "ipython2",
   "version": "2.7.11"
  }
 },
 "nbformat": 4,
 "nbformat_minor": 0
}
