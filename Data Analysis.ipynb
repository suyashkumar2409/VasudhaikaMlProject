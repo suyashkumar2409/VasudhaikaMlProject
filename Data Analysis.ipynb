{
 "cells": [
  {
   "cell_type": "code",
   "execution_count": 162,
   "metadata": {
    "collapsed": true
   },
   "outputs": [],
   "source": [
    "import pandas as pd\n",
    "import numpy as np\n",
    "import matplotlib\n",
    "import matplotlib.pyplot as plt\n",
    "import sklearn\n",
    "\n",
    "%matplotlib inline"
   ]
  },
  {
   "cell_type": "code",
   "execution_count": 13,
   "metadata": {
    "collapsed": true
   },
   "outputs": [],
   "source": [
    "data = pd.read_csv('data.csv')"
   ]
  },
  {
   "cell_type": "code",
   "execution_count": 37,
   "metadata": {
    "collapsed": false
   },
   "outputs": [
    {
     "data": {
      "text/html": [
       "<div>\n",
       "<table border=\"1\" class=\"dataframe\">\n",
       "  <thead>\n",
       "    <tr style=\"text-align: right;\">\n",
       "      <th></th>\n",
       "      <th>Category</th>\n",
       "      <th>Text</th>\n",
       "    </tr>\n",
       "  </thead>\n",
       "  <tbody>\n",
       "    <tr>\n",
       "      <th>0</th>\n",
       "      <td>Farmland</td>\n",
       "      <td>US land prices extend decline - but at slower ...</td>\n",
       "    </tr>\n",
       "    <tr>\n",
       "      <th>1</th>\n",
       "      <td>Farmland</td>\n",
       "      <td>Dry weather forces BrasilAgro to slash corn so...</td>\n",
       "    </tr>\n",
       "    <tr>\n",
       "      <th>2</th>\n",
       "      <td>Farmland</td>\n",
       "      <td>Australia delays ruling on $290m China-backed ...</td>\n",
       "    </tr>\n",
       "    <tr>\n",
       "      <th>3</th>\n",
       "      <td>Farmland</td>\n",
       "      <td>Demand for high-end dairy farms in NZ shows 'l...</td>\n",
       "    </tr>\n",
       "    <tr>\n",
       "      <th>4</th>\n",
       "      <td>Farmland</td>\n",
       "      <td>FirstFarms unveils plan to exploit Slovakian l...</td>\n",
       "    </tr>\n",
       "  </tbody>\n",
       "</table>\n",
       "</div>"
      ],
      "text/plain": [
       "   Category                                               Text\n",
       "0  Farmland  US land prices extend decline - but at slower ...\n",
       "1  Farmland  Dry weather forces BrasilAgro to slash corn so...\n",
       "2  Farmland  Australia delays ruling on $290m China-backed ...\n",
       "3  Farmland  Demand for high-end dairy farms in NZ shows 'l...\n",
       "4  Farmland  FirstFarms unveils plan to exploit Slovakian l..."
      ]
     },
     "execution_count": 37,
     "metadata": {},
     "output_type": "execute_result"
    }
   ],
   "source": [
    "data.head()"
   ]
  },
  {
   "cell_type": "code",
   "execution_count": 4,
   "metadata": {
    "collapsed": false
   },
   "outputs": [
    {
     "data": {
      "text/plain": [
       "array(['Canola', 'Cocoa', 'Coffee', 'Corn', 'Cotton & wool', 'Dairy',\n",
       "       'Farmland', 'Fertilizer', 'Hay & Forage', 'Horticulture',\n",
       "       'Livestock & poultry', 'Pulse', 'Soybeans', 'Soybeans & oilseeds',\n",
       "       'Sugar', 'Wheat', 'Wheat & cereals'], dtype=object)"
      ]
     },
     "execution_count": 4,
     "metadata": {},
     "output_type": "execute_result"
    }
   ],
   "source": [
    "np.unique(data['Category'])"
   ]
  },
  {
   "cell_type": "code",
   "execution_count": 36,
   "metadata": {
    "collapsed": false
   },
   "outputs": [
    {
     "data": {
      "text/plain": [
       "Soybeans               5904\n",
       "Wheat                  5563\n",
       "Corn                   3875\n",
       "Hay & Forage           2632\n",
       "Canola                 2150\n",
       "Pulse                  1644\n",
       "Horticulture            703\n",
       "Dairy                    13\n",
       "Coffee                   13\n",
       "Livestock & poultry      13\n",
       "Farmland                 13\n",
       "Fertilizer               13\n",
       "Cocoa                    13\n",
       "Cotton & wool            13\n",
       "Sugar                    13\n",
       "Name: Category, dtype: int64"
      ]
     },
     "execution_count": 36,
     "metadata": {},
     "output_type": "execute_result"
    }
   ],
   "source": [
    "data['Category'].value_counts()"
   ]
  },
  {
   "cell_type": "code",
   "execution_count": 14,
   "metadata": {
    "collapsed": false
   },
   "outputs": [],
   "source": [
    "def combine_categories(x):\n",
    "    if x=='Soybeans & oilseeds':\n",
    "        return 'Soybeans'\n",
    "    elif x=='Wheat & cereals':\n",
    "        return 'Wheat'\n",
    "    else:\n",
    "        return x\n",
    "\n",
    "data['Category'] = data['Category'].apply(combine_categories)"
   ]
  },
  {
   "cell_type": "code",
   "execution_count": 19,
   "metadata": {
    "collapsed": false
   },
   "outputs": [],
   "source": [
    "count_data = data['Category'].value_counts()"
   ]
  },
  {
   "cell_type": "code",
   "execution_count": 20,
   "metadata": {
    "collapsed": false
   },
   "outputs": [
    {
     "data": {
      "text/plain": [
       "Soybeans               5904\n",
       "Wheat                  5563\n",
       "Corn                   3875\n",
       "Hay & Forage           2632\n",
       "Canola                 2150\n",
       "Pulse                  1644\n",
       "Horticulture            703\n",
       "Dairy                    13\n",
       "Coffee                   13\n",
       "Livestock & poultry      13\n",
       "Farmland                 13\n",
       "Fertilizer               13\n",
       "Cocoa                    13\n",
       "Cotton & wool            13\n",
       "Sugar                    13\n",
       "Name: Category, dtype: int64"
      ]
     },
     "execution_count": 20,
     "metadata": {},
     "output_type": "execute_result"
    }
   ],
   "source": [
    "count_data"
   ]
  },
  {
   "cell_type": "code",
   "execution_count": 44,
   "metadata": {
    "collapsed": false
   },
   "outputs": [
    {
     "data": {
      "text/plain": [
       "['Horticulture',\n",
       " 'Dairy',\n",
       " 'Coffee',\n",
       " 'Livestock & poultry',\n",
       " 'Farmland',\n",
       " 'Fertilizer',\n",
       " 'Cocoa',\n",
       " 'Cotton & wool',\n",
       " 'Sugar']"
      ]
     },
     "execution_count": 44,
     "metadata": {},
     "output_type": "execute_result"
    }
   ],
   "source": [
    "leaveout = count_data[count_data<800]\n",
    "list(leaveout.index)"
   ]
  },
  {
   "cell_type": "code",
   "execution_count": 45,
   "metadata": {
    "collapsed": false
   },
   "outputs": [],
   "source": [
    "sub_data = data\n",
    "for col in list(leaveout.index):\n",
    "    sub_data = sub_data[sub_data['Category'] != col]"
   ]
  },
  {
   "cell_type": "code",
   "execution_count": 46,
   "metadata": {
    "collapsed": false
   },
   "outputs": [
    {
     "data": {
      "text/plain": [
       "Soybeans        5904\n",
       "Wheat           5563\n",
       "Corn            3875\n",
       "Hay & Forage    2632\n",
       "Canola          2150\n",
       "Pulse           1644\n",
       "Name: Category, dtype: int64"
      ]
     },
     "execution_count": 46,
     "metadata": {},
     "output_type": "execute_result"
    }
   ],
   "source": [
    "sub_data['Category'].value_counts()"
   ]
  },
  {
   "cell_type": "code",
   "execution_count": 155,
   "metadata": {
    "collapsed": false
   },
   "outputs": [],
   "source": [
    "sub_data = pd.read_csv('sub_data.csv')"
   ]
  },
  {
   "cell_type": "code",
   "execution_count": 159,
   "metadata": {
    "collapsed": false
   },
   "outputs": [],
   "source": [
    "def replaceredundancy(x):\n",
    "    retstr = x.replace('Click here to see more...', '')\n",
    "    return retstr\n",
    "\n",
    "#sub_data['Text'] = sub_data['Text'].apply(replaceredundancy)\n",
    "\n",
    "import string\n",
    "def removepunctuation(x):\n",
    "    x = x.replace('.',' ')\n",
    "    x = x.replace(')',' ')\n",
    "    x = x.replace('(',' ')\n",
    "    retstr = x.translate(string.maketrans(\"\",\"\"), string.punctuation)\n",
    "    return retstr\n",
    "\n",
    "#sub_data['Text'] = sub_data['Text'].apply(removepunctuation)\n",
    "\n",
    "def removeunicode(x):\n",
    "    return re.sub(r'[^\\x00-\\x7F]+',' ', x)\n",
    "\n",
    "def trimstring(x):\n",
    "    x = x.lstrip()\n",
    "    x= x.rstrip()\n",
    "    return x\n",
    "\n",
    "def lowercasestring(x):\n",
    "    return x.lower()\n",
    "\n",
    "def cleanstring(x):\n",
    "    x=replaceredundancy(x)\n",
    "    x=removepunctuation(x)\n",
    "    x=removeunicode(x)\n",
    "    x = trimstring(x)\n",
    "    x=lowercasestring(x)\n",
    "    return x "
   ]
  },
  {
   "cell_type": "code",
   "execution_count": 160,
   "metadata": {
    "collapsed": false
   },
   "outputs": [],
   "source": [
    "sub_data['Text'] = sub_data['Text'].apply(cleanstring)"
   ]
  },
  {
   "cell_type": "code",
   "execution_count": 161,
   "metadata": {
    "collapsed": false
   },
   "outputs": [
    {
     "data": {
      "text/plain": [
       "'haying harvesting tips to help reduce wildlife mortality  jun 09 2016 harvesting wheat and cutting hay are staples of oklahomas agricultural heritage  but these activities can adversely affect oklahomas wildlife especially upland game birds for hay farmers this year is somewhat unusual with plenty of early growth because of favorable weather  this means hay farmers might be cutting earlier creating a greater potential for damaging effects on wildlife  a string of sunny days is likely to generate a flurry of activity in the hayfields which could amplify any damage done to wildlife but with a little innovation and a watchful eye farmers and ranchers can reduce the damaging effects of these operations on upland game and enhance populations on their properties when it comes to managing upland game birds having a diverse mix of quality native grasslands shrub thickets wetlands and weeddominated sites such as old homesteads and fallow fields is the key  but when some or all of these components are in short supply quail and pheasants must rely on additional often subpar habitats to survive grass hayfields as well as fields of green wheat can be an attractive alternative to nesting birds especially pheasants  likewise wheat and other agricultural fields usually offer good protective cover plenty of bare ground and a ready food source for brooding hens  but hay and wheat fields can adversely affect upland game birds if harvesting operations interfere with critical nesting and brood rearing periods pheasant mortality can be greatly reduced by delaying the harvest of wheat as long as possible and incorporating weedy and grassy buffer strips within field interiors to serve as escape cover  being mindful of these preventative measures and keeping mental notes on which fields or which portions of fields usually attract larger numbers of game birds can make a difference and lessen the overall impact as a general rule fields that offer the highest plant diversity tend to be more attractive to birds than fields dominated by a single species or only a few species  in addition patches of habitat that are out of the ordinary compared to the field as a whole are also likely to be more attractive  these types of areas can be good clues as to the potential presence of nesting or brooding hens and can be excellent areas to consider for future habitat conservation  at the very least being mindful of these areas by reducing tractor speed in key areas of the field walking out fields to flush birds andor avoiding entirely can help reduce wildlife impacts'"
      ]
     },
     "execution_count": 161,
     "metadata": {},
     "output_type": "execute_result"
    }
   ],
   "source": [
    "sub_data['Text'][0]"
   ]
  },
  {
   "cell_type": "code",
   "execution_count": null,
   "metadata": {
    "collapsed": true
   },
   "outputs": [],
   "source": []
  }
 ],
 "metadata": {
  "kernelspec": {
   "display_name": "Python 2",
   "language": "python",
   "name": "python2"
  },
  "language_info": {
   "codemirror_mode": {
    "name": "ipython",
    "version": 2
   },
   "file_extension": ".py",
   "mimetype": "text/x-python",
   "name": "python",
   "nbconvert_exporter": "python",
   "pygments_lexer": "ipython2",
   "version": "2.7.11"
  }
 },
 "nbformat": 4,
 "nbformat_minor": 0
}
