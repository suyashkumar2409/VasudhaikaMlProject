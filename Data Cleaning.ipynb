{
 "cells": [
  {
   "cell_type": "code",
   "execution_count": 1,
   "metadata": {
    "collapsed": true
   },
   "outputs": [],
   "source": [
    "import pandas as pd\n",
    "import numpy as np\n",
    "import matplotlib\n",
    "import matplotlib.pyplot as plt\n",
    "import sklearn\n",
    "import re\n",
    "import nltk\n",
    "\n",
    "%matplotlib inline"
   ]
  },
  {
   "cell_type": "code",
   "execution_count": 2,
   "metadata": {
    "collapsed": true
   },
   "outputs": [],
   "source": [
    "data = pd.read_csv('data.csv')"
   ]
  },
  {
   "cell_type": "code",
   "execution_count": 37,
   "metadata": {
    "collapsed": false
   },
   "outputs": [
    {
     "data": {
      "text/html": [
       "<div>\n",
       "<table border=\"1\" class=\"dataframe\">\n",
       "  <thead>\n",
       "    <tr style=\"text-align: right;\">\n",
       "      <th></th>\n",
       "      <th>Category</th>\n",
       "      <th>Text</th>\n",
       "    </tr>\n",
       "  </thead>\n",
       "  <tbody>\n",
       "    <tr>\n",
       "      <th>0</th>\n",
       "      <td>Farmland</td>\n",
       "      <td>US land prices extend decline - but at slower ...</td>\n",
       "    </tr>\n",
       "    <tr>\n",
       "      <th>1</th>\n",
       "      <td>Farmland</td>\n",
       "      <td>Dry weather forces BrasilAgro to slash corn so...</td>\n",
       "    </tr>\n",
       "    <tr>\n",
       "      <th>2</th>\n",
       "      <td>Farmland</td>\n",
       "      <td>Australia delays ruling on $290m China-backed ...</td>\n",
       "    </tr>\n",
       "    <tr>\n",
       "      <th>3</th>\n",
       "      <td>Farmland</td>\n",
       "      <td>Demand for high-end dairy farms in NZ shows 'l...</td>\n",
       "    </tr>\n",
       "    <tr>\n",
       "      <th>4</th>\n",
       "      <td>Farmland</td>\n",
       "      <td>FirstFarms unveils plan to exploit Slovakian l...</td>\n",
       "    </tr>\n",
       "  </tbody>\n",
       "</table>\n",
       "</div>"
      ],
      "text/plain": [
       "   Category                                               Text\n",
       "0  Farmland  US land prices extend decline - but at slower ...\n",
       "1  Farmland  Dry weather forces BrasilAgro to slash corn so...\n",
       "2  Farmland  Australia delays ruling on $290m China-backed ...\n",
       "3  Farmland  Demand for high-end dairy farms in NZ shows 'l...\n",
       "4  Farmland  FirstFarms unveils plan to exploit Slovakian l..."
      ]
     },
     "execution_count": 37,
     "metadata": {},
     "output_type": "execute_result"
    }
   ],
   "source": [
    "data.head()"
   ]
  },
  {
   "cell_type": "code",
   "execution_count": 4,
   "metadata": {
    "collapsed": false
   },
   "outputs": [
    {
     "data": {
      "text/plain": [
       "array(['Canola', 'Cocoa', 'Coffee', 'Corn', 'Cotton & wool', 'Dairy',\n",
       "       'Farmland', 'Fertilizer', 'Hay & Forage', 'Horticulture',\n",
       "       'Livestock & poultry', 'Pulse', 'Soybeans', 'Soybeans & oilseeds',\n",
       "       'Sugar', 'Wheat', 'Wheat & cereals'], dtype=object)"
      ]
     },
     "execution_count": 4,
     "metadata": {},
     "output_type": "execute_result"
    }
   ],
   "source": [
    "np.unique(data['Category'])"
   ]
  },
  {
   "cell_type": "code",
   "execution_count": 36,
   "metadata": {
    "collapsed": false
   },
   "outputs": [
    {
     "data": {
      "text/plain": [
       "Soybeans               5904\n",
       "Wheat                  5563\n",
       "Corn                   3875\n",
       "Hay & Forage           2632\n",
       "Canola                 2150\n",
       "Pulse                  1644\n",
       "Horticulture            703\n",
       "Dairy                    13\n",
       "Coffee                   13\n",
       "Livestock & poultry      13\n",
       "Farmland                 13\n",
       "Fertilizer               13\n",
       "Cocoa                    13\n",
       "Cotton & wool            13\n",
       "Sugar                    13\n",
       "Name: Category, dtype: int64"
      ]
     },
     "execution_count": 36,
     "metadata": {},
     "output_type": "execute_result"
    }
   ],
   "source": [
    "data['Category'].value_counts()"
   ]
  },
  {
   "cell_type": "code",
   "execution_count": 14,
   "metadata": {
    "collapsed": false
   },
   "outputs": [],
   "source": [
    "def combine_categories(x):\n",
    "    if x=='Soybeans & oilseeds':\n",
    "        return 'Soybeans'\n",
    "    elif x=='Wheat & cereals':\n",
    "        return 'Wheat'\n",
    "    else:\n",
    "        return x\n",
    "\n",
    "data['Category'] = data['Category'].apply(combine_categories)"
   ]
  },
  {
   "cell_type": "code",
   "execution_count": 19,
   "metadata": {
    "collapsed": false
   },
   "outputs": [],
   "source": [
    "count_data = data['Category'].value_counts()"
   ]
  },
  {
   "cell_type": "code",
   "execution_count": 20,
   "metadata": {
    "collapsed": false
   },
   "outputs": [
    {
     "data": {
      "text/plain": [
       "Soybeans               5904\n",
       "Wheat                  5563\n",
       "Corn                   3875\n",
       "Hay & Forage           2632\n",
       "Canola                 2150\n",
       "Pulse                  1644\n",
       "Horticulture            703\n",
       "Dairy                    13\n",
       "Coffee                   13\n",
       "Livestock & poultry      13\n",
       "Farmland                 13\n",
       "Fertilizer               13\n",
       "Cocoa                    13\n",
       "Cotton & wool            13\n",
       "Sugar                    13\n",
       "Name: Category, dtype: int64"
      ]
     },
     "execution_count": 20,
     "metadata": {},
     "output_type": "execute_result"
    }
   ],
   "source": [
    "count_data"
   ]
  },
  {
   "cell_type": "code",
   "execution_count": 44,
   "metadata": {
    "collapsed": false
   },
   "outputs": [
    {
     "data": {
      "text/plain": [
       "['Horticulture',\n",
       " 'Dairy',\n",
       " 'Coffee',\n",
       " 'Livestock & poultry',\n",
       " 'Farmland',\n",
       " 'Fertilizer',\n",
       " 'Cocoa',\n",
       " 'Cotton & wool',\n",
       " 'Sugar']"
      ]
     },
     "execution_count": 44,
     "metadata": {},
     "output_type": "execute_result"
    }
   ],
   "source": [
    "leaveout = count_data[count_data<800]\n",
    "list(leaveout.index)"
   ]
  },
  {
   "cell_type": "code",
   "execution_count": 45,
   "metadata": {
    "collapsed": false
   },
   "outputs": [],
   "source": [
    "sub_data = data\n",
    "for col in list(leaveout.index):\n",
    "    sub_data = sub_data[sub_data['Category'] != col]"
   ]
  },
  {
   "cell_type": "code",
   "execution_count": 46,
   "metadata": {
    "collapsed": false
   },
   "outputs": [
    {
     "data": {
      "text/plain": [
       "Soybeans        5904\n",
       "Wheat           5563\n",
       "Corn            3875\n",
       "Hay & Forage    2632\n",
       "Canola          2150\n",
       "Pulse           1644\n",
       "Name: Category, dtype: int64"
      ]
     },
     "execution_count": 46,
     "metadata": {},
     "output_type": "execute_result"
    }
   ],
   "source": [
    "sub_data['Category'].value_counts()"
   ]
  },
  {
   "cell_type": "code",
   "execution_count": 12,
   "metadata": {
    "collapsed": false
   },
   "outputs": [],
   "source": [
    "def listofbadwords():\n",
    "    from nltk.corpus import stopwords\n",
    "    stopwords = stopwords.words('english')\n",
    "    monthnames = ['jan','feb','mar','apr','may','jun','jul','aug','sep','oct','nov','dec']\n",
    "    randomrepetitive = ['edu','unl']\n",
    "    \n",
    "    totlist = stopwords + monthnames + randomrepetitive\n",
    "    return totlist\n",
    "\n",
    "totlist = listofbadwords()\n",
    "    "
   ]
  },
  {
   "cell_type": "code",
   "execution_count": 14,
   "metadata": {
    "collapsed": false
   },
   "outputs": [],
   "source": [
    "sub_data = pd.read_csv('sub_data.csv')"
   ]
  },
  {
   "cell_type": "code",
   "execution_count": 15,
   "metadata": {
    "collapsed": false
   },
   "outputs": [],
   "source": [
    "def replaceredundancy(x):\n",
    "    retstr = x.replace('Click here to see more...', '')\n",
    "    return retstr\n",
    "\n",
    "import string\n",
    "def removepunctuation(x):\n",
    "    #x = x.replace('.',' ')\n",
    "    #x = x.replace(')',' ')\n",
    "    #x = x.replace('(',' ')\n",
    "    replace_punctuation = string.maketrans(string.punctuation, ' '*len(string.punctuation))\n",
    "    x = x.translate(replace_punctuation)\n",
    "    #retstr = x.translate(string.maketrans(\"\",\"\"), string.punctuation)\n",
    "    return x\n",
    "    \n",
    "def removeunicode(x):\n",
    "    return re.sub(r'[^\\x00-\\x7F]+',' ', x)\n",
    "\n",
    "def trimstring(x):\n",
    "    x = x.lstrip()\n",
    "    x= x.rstrip()\n",
    "    return x\n",
    "\n",
    "def lowercasestring(x):\n",
    "    return x.lower()\n",
    "\n",
    "def removedigits(s):\n",
    "    s = re.sub(\" \\d+\", \" \", s)\n",
    "    return s\n",
    "\n",
    "def removebadwords(x):\n",
    "    \n",
    "    wordlist = x.split()\n",
    "    wordlist = [word for word in wordlist if word.lower() not in totlist]\n",
    "    x = ' '.join(wordlist)\n",
    "    return x\n",
    "    \n",
    "def cleanstring(x):\n",
    "    x=replaceredundancy(x)\n",
    "    x=removepunctuation(x)\n",
    "    x=removeunicode(x)\n",
    "    x = trimstring(x)\n",
    "    x=removedigits(x)\n",
    "    x=lowercasestring(x)\n",
    "    \n",
    "    x = removebadwords(x)\n",
    "    return x "
   ]
  },
  {
   "cell_type": "code",
   "execution_count": 16,
   "metadata": {
    "collapsed": false
   },
   "outputs": [],
   "source": [
    "clean_data = sub_data.copy(deep=True)\n",
    "clean_data['Text'] = clean_data['Text'].apply(cleanstring)"
   ]
  },
  {
   "cell_type": "code",
   "execution_count": 20,
   "metadata": {
    "collapsed": true
   },
   "outputs": [],
   "source": [
    "clean_data.to_excel('clean.xlsx')"
   ]
  },
  {
   "cell_type": "code",
   "execution_count": null,
   "metadata": {
    "collapsed": true
   },
   "outputs": [],
   "source": []
  }
 ],
 "metadata": {
  "kernelspec": {
   "display_name": "Python 2",
   "language": "python",
   "name": "python2"
  },
  "language_info": {
   "codemirror_mode": {
    "name": "ipython",
    "version": 2
   },
   "file_extension": ".py",
   "mimetype": "text/x-python",
   "name": "python",
   "nbconvert_exporter": "python",
   "pygments_lexer": "ipython2",
   "version": "2.7.11"
  }
 },
 "nbformat": 4,
 "nbformat_minor": 0
}
